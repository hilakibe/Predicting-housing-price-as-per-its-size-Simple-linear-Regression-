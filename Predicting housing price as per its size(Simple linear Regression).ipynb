{
 "cells": [
  {
   "cell_type": "code",
   "execution_count": 6,
   "metadata": {},
   "outputs": [],
   "source": [
    "# author: Hillary Kirui, hilakibe20@gmail.com\n",
    "    \n",
    "#importing numpy, matplotlib and sklearn libraries\n",
    "import numpy as np\n",
    "import matplotlib.pyplot as plt\n",
    "from sklearn import datasets, linear_model\n"
   ]
  },
  {
   "cell_type": "code",
   "execution_count": 7,
   "metadata": {},
   "outputs": [],
   "source": [
    "#loading the dataset\n",
    "house_price=[245, 312, 279, 308, 199, 219, 405, 324, 319, 255] #dependent variable\n",
    "size=[1400, 1600, 1700, 1875, 1100, 1550, 2350, 2450, 1425, 1700] #independent variable\n"
   ]
  },
  {
   "cell_type": "code",
   "execution_count": 8,
   "metadata": {},
   "outputs": [],
   "source": [
    "#Reshape the input to our linear regression\n",
    "size2=np.array(size).reshape((-1,1))"
   ]
  },
  {
   "cell_type": "code",
   "execution_count": 11,
   "metadata": {},
   "outputs": [
    {
     "data": {
      "text/plain": [
       "Text(0, 0.5, 'house price in Kshs')"
      ]
     },
     "execution_count": 11,
     "metadata": {},
     "output_type": "execute_result"
    },
    {
     "data": {
      "image/png": "[encoded data removed]",
      "text/plain": [
       "<Figure size 432x288 with 1 Axes>"
      ]
     },
     "metadata": {
      "needs_background": "light"
     },
     "output_type": "display_data"
    }
   ],
   "source": [
    "#Visualizing the data\n",
    "plt.scatter(size2, house_price)\n",
    "plt.title('Price against house size graph')\n",
    "plt.xlabel(\"House size in squared metres\")\n",
    "plt.ylabel(\"house price in Kshs\")\n"
   ]
  },
  {
   "cell_type": "code",
   "execution_count": 12,
   "metadata": {},
   "outputs": [
    {
     "name": "stdout",
     "output_type": "stream",
     "text": [
      "Coefficient: [0.10976774] \n",
      "\n",
      "Intercept: 98.24832962138092 \n",
      "\n"
     ]
    }
   ],
   "source": [
    "#select a appropriate algorithm and fit/training it \n",
    "clf=linear_model.LinearRegression()\n",
    "clf.fit(size2, house_price)\n",
    "print(\"Coefficient:\", clf.coef_, \"\\n\")\n",
    "print(\"Intercept:\", clf.intercept_, \"\\n\")\n",
    "\n",
    "#y=mx + c, where, m=coefficient and c=intercept"
   ]
  },
  {
   "cell_type": "code",
   "execution_count": 14,
   "metadata": {},
   "outputs": [],
   "source": [
    "#formula obtained from the trained model \n",
    "def predict():\n",
    "    x=float(input(\"Enter the size of the house:\"))\n",
    "    x=np.array(x).reshape((-1,1))\n",
    "    y=clf.predict(x)\n",
    "   # y=clf.coef_* x + clf.intercept_\n",
    "\n",
    "    print(\"The predicted Price of the house is:\", y)"
   ]
  },
  {
   "cell_type": "code",
   "execution_count": 15,
   "metadata": {},
   "outputs": [
    {
     "name": "stdout",
     "output_type": "stream",
     "text": [
      "Enter the size of the house:4546\n",
      "The predicted Price of the house is: [597.2524658]\n"
     ]
    }
   ],
   "source": [
    "predict()"
   ]
  },
  {
   "cell_type": "code",
   "execution_count": null,
   "metadata": {},
   "outputs": [],
   "source": []
  }
 ],
 "metadata": {
  "kernelspec": {
   "display_name": "Python 3",
   "language": "python",
   "name": "python3"
  },
  "language_info": {
   "codemirror_mode": {
    "name": "ipython",
    "version": 3
   },
   "file_extension": ".py",
   "mimetype": "text/x-python",
   "name": "python",
   "nbconvert_exporter": "python",
   "pygments_lexer": "ipython3",
   "version": "3.7.3"
  }
 },
 "nbformat": 4,
 "nbformat_minor": 2
}
